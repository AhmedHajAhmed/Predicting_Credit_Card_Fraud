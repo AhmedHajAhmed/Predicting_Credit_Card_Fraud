{
 "cells": [
  {
   "cell_type": "markdown",
   "id": "fd3421ba",
   "metadata": {},
   "source": [
    "# Predicting Credit Card Fraud"
   ]
  },
  {
   "cell_type": "markdown",
   "id": "fc1d90ee",
   "metadata": {},
   "source": [
    "Credit card fraud is one of the leading causes of identify theft around the world. In 2018 alone, over $24 billion were stolen through fraudulent credit card transactions. Financial institutions employ a wide variety of different techniques to prevent fraud, one of the most common being Logistic Regression.\n",
    "\n",
    "In this project I will use Logistic Regression and create a predictive model to determine if a transaction is fraudulent or not. \n",
    "\n",
    "The file [dataset.csv](https://www.kaggle.com/datasets/ealaxi/paysim1) contains data on 200k simulated credit card transactions."
   ]
  },
  {
   "cell_type": "code",
   "execution_count": 13,
   "id": "3fb09038",
   "metadata": {},
   "outputs": [
    {
     "data": {
      "text/html": [
       "<div>\n",
       "<style scoped>\n",
       "    .dataframe tbody tr th:only-of-type {\n",
       "        vertical-align: middle;\n",
       "    }\n",
       "\n",
       "    .dataframe tbody tr th {\n",
       "        vertical-align: top;\n",
       "    }\n",
       "\n",
       "    .dataframe thead th {\n",
       "        text-align: right;\n",
       "    }\n",
       "</style>\n",
       "<table border=\"1\" class=\"dataframe\">\n",
       "  <thead>\n",
       "    <tr style=\"text-align: right;\">\n",
       "      <th></th>\n",
       "      <th>step</th>\n",
       "      <th>type</th>\n",
       "      <th>amount</th>\n",
       "      <th>nameOrig</th>\n",
       "      <th>oldbalanceOrg</th>\n",
       "      <th>newbalanceOrig</th>\n",
       "      <th>nameDest</th>\n",
       "      <th>oldbalanceDest</th>\n",
       "      <th>newbalanceDest</th>\n",
       "      <th>isFraud</th>\n",
       "      <th>isFlaggedFraud</th>\n",
       "    </tr>\n",
       "  </thead>\n",
       "  <tbody>\n",
       "    <tr>\n",
       "      <th>0</th>\n",
       "      <td>1</td>\n",
       "      <td>PAYMENT</td>\n",
       "      <td>9839.64</td>\n",
       "      <td>C1231006815</td>\n",
       "      <td>170136.00</td>\n",
       "      <td>160296.36</td>\n",
       "      <td>M1979787155</td>\n",
       "      <td>0.00</td>\n",
       "      <td>0.00</td>\n",
       "      <td>0</td>\n",
       "      <td>0</td>\n",
       "    </tr>\n",
       "    <tr>\n",
       "      <th>1</th>\n",
       "      <td>1</td>\n",
       "      <td>PAYMENT</td>\n",
       "      <td>1864.28</td>\n",
       "      <td>C1666544295</td>\n",
       "      <td>21249.00</td>\n",
       "      <td>19384.72</td>\n",
       "      <td>M2044282225</td>\n",
       "      <td>0.00</td>\n",
       "      <td>0.00</td>\n",
       "      <td>0</td>\n",
       "      <td>0</td>\n",
       "    </tr>\n",
       "    <tr>\n",
       "      <th>2</th>\n",
       "      <td>1</td>\n",
       "      <td>TRANSFER</td>\n",
       "      <td>181.00</td>\n",
       "      <td>C1305486145</td>\n",
       "      <td>181.00</td>\n",
       "      <td>0.00</td>\n",
       "      <td>C553264065</td>\n",
       "      <td>0.00</td>\n",
       "      <td>0.00</td>\n",
       "      <td>1</td>\n",
       "      <td>0</td>\n",
       "    </tr>\n",
       "    <tr>\n",
       "      <th>3</th>\n",
       "      <td>1</td>\n",
       "      <td>CASH_OUT</td>\n",
       "      <td>181.00</td>\n",
       "      <td>C840083671</td>\n",
       "      <td>181.00</td>\n",
       "      <td>0.00</td>\n",
       "      <td>C38997010</td>\n",
       "      <td>21182.00</td>\n",
       "      <td>0.00</td>\n",
       "      <td>1</td>\n",
       "      <td>0</td>\n",
       "    </tr>\n",
       "    <tr>\n",
       "      <th>4</th>\n",
       "      <td>1</td>\n",
       "      <td>PAYMENT</td>\n",
       "      <td>11668.14</td>\n",
       "      <td>C2048537720</td>\n",
       "      <td>41554.00</td>\n",
       "      <td>29885.86</td>\n",
       "      <td>M1230701703</td>\n",
       "      <td>0.00</td>\n",
       "      <td>0.00</td>\n",
       "      <td>0</td>\n",
       "      <td>0</td>\n",
       "    </tr>\n",
       "    <tr>\n",
       "      <th>...</th>\n",
       "      <td>...</td>\n",
       "      <td>...</td>\n",
       "      <td>...</td>\n",
       "      <td>...</td>\n",
       "      <td>...</td>\n",
       "      <td>...</td>\n",
       "      <td>...</td>\n",
       "      <td>...</td>\n",
       "      <td>...</td>\n",
       "      <td>...</td>\n",
       "      <td>...</td>\n",
       "    </tr>\n",
       "    <tr>\n",
       "      <th>6362615</th>\n",
       "      <td>743</td>\n",
       "      <td>CASH_OUT</td>\n",
       "      <td>339682.13</td>\n",
       "      <td>C786484425</td>\n",
       "      <td>339682.13</td>\n",
       "      <td>0.00</td>\n",
       "      <td>C776919290</td>\n",
       "      <td>0.00</td>\n",
       "      <td>339682.13</td>\n",
       "      <td>1</td>\n",
       "      <td>0</td>\n",
       "    </tr>\n",
       "    <tr>\n",
       "      <th>6362616</th>\n",
       "      <td>743</td>\n",
       "      <td>TRANSFER</td>\n",
       "      <td>6311409.28</td>\n",
       "      <td>C1529008245</td>\n",
       "      <td>6311409.28</td>\n",
       "      <td>0.00</td>\n",
       "      <td>C1881841831</td>\n",
       "      <td>0.00</td>\n",
       "      <td>0.00</td>\n",
       "      <td>1</td>\n",
       "      <td>0</td>\n",
       "    </tr>\n",
       "    <tr>\n",
       "      <th>6362617</th>\n",
       "      <td>743</td>\n",
       "      <td>CASH_OUT</td>\n",
       "      <td>6311409.28</td>\n",
       "      <td>C1162922333</td>\n",
       "      <td>6311409.28</td>\n",
       "      <td>0.00</td>\n",
       "      <td>C1365125890</td>\n",
       "      <td>68488.84</td>\n",
       "      <td>6379898.11</td>\n",
       "      <td>1</td>\n",
       "      <td>0</td>\n",
       "    </tr>\n",
       "    <tr>\n",
       "      <th>6362618</th>\n",
       "      <td>743</td>\n",
       "      <td>TRANSFER</td>\n",
       "      <td>850002.52</td>\n",
       "      <td>C1685995037</td>\n",
       "      <td>850002.52</td>\n",
       "      <td>0.00</td>\n",
       "      <td>C2080388513</td>\n",
       "      <td>0.00</td>\n",
       "      <td>0.00</td>\n",
       "      <td>1</td>\n",
       "      <td>0</td>\n",
       "    </tr>\n",
       "    <tr>\n",
       "      <th>6362619</th>\n",
       "      <td>743</td>\n",
       "      <td>CASH_OUT</td>\n",
       "      <td>850002.52</td>\n",
       "      <td>C1280323807</td>\n",
       "      <td>850002.52</td>\n",
       "      <td>0.00</td>\n",
       "      <td>C873221189</td>\n",
       "      <td>6510099.11</td>\n",
       "      <td>7360101.63</td>\n",
       "      <td>1</td>\n",
       "      <td>0</td>\n",
       "    </tr>\n",
       "  </tbody>\n",
       "</table>\n",
       "<p>6362620 rows × 11 columns</p>\n",
       "</div>"
      ],
      "text/plain": [
       "         step      type      amount     nameOrig  oldbalanceOrg  \\\n",
       "0           1   PAYMENT     9839.64  C1231006815      170136.00   \n",
       "1           1   PAYMENT     1864.28  C1666544295       21249.00   \n",
       "2           1  TRANSFER      181.00  C1305486145         181.00   \n",
       "3           1  CASH_OUT      181.00   C840083671         181.00   \n",
       "4           1   PAYMENT    11668.14  C2048537720       41554.00   \n",
       "...       ...       ...         ...          ...            ...   \n",
       "6362615   743  CASH_OUT   339682.13   C786484425      339682.13   \n",
       "6362616   743  TRANSFER  6311409.28  C1529008245     6311409.28   \n",
       "6362617   743  CASH_OUT  6311409.28  C1162922333     6311409.28   \n",
       "6362618   743  TRANSFER   850002.52  C1685995037      850002.52   \n",
       "6362619   743  CASH_OUT   850002.52  C1280323807      850002.52   \n",
       "\n",
       "         newbalanceOrig     nameDest  oldbalanceDest  newbalanceDest  isFraud  \\\n",
       "0             160296.36  M1979787155            0.00            0.00        0   \n",
       "1              19384.72  M2044282225            0.00            0.00        0   \n",
       "2                  0.00   C553264065            0.00            0.00        1   \n",
       "3                  0.00    C38997010        21182.00            0.00        1   \n",
       "4              29885.86  M1230701703            0.00            0.00        0   \n",
       "...                 ...          ...             ...             ...      ...   \n",
       "6362615            0.00   C776919290            0.00       339682.13        1   \n",
       "6362616            0.00  C1881841831            0.00            0.00        1   \n",
       "6362617            0.00  C1365125890        68488.84      6379898.11        1   \n",
       "6362618            0.00  C2080388513            0.00            0.00        1   \n",
       "6362619            0.00   C873221189      6510099.11      7360101.63        1   \n",
       "\n",
       "         isFlaggedFraud  \n",
       "0                     0  \n",
       "1                     0  \n",
       "2                     0  \n",
       "3                     0  \n",
       "4                     0  \n",
       "...                 ...  \n",
       "6362615               0  \n",
       "6362616               0  \n",
       "6362617               0  \n",
       "6362618               0  \n",
       "6362619               0  \n",
       "\n",
       "[6362620 rows x 11 columns]"
      ]
     },
     "execution_count": 13,
     "metadata": {},
     "output_type": "execute_result"
    }
   ],
   "source": [
    "import warnings\n",
    "warnings.filterwarnings('ignore')\n",
    "\n",
    "import pandas as pd \n",
    "\n",
    "transactions = pd.read_csv(\"dataset.csv\")\n",
    "\n",
    "transactions"
   ]
  },
  {
   "cell_type": "markdown",
   "id": "1b15c2a6",
   "metadata": {},
   "source": [
    "### Clean Data"
   ]
  },
  {
   "cell_type": "markdown",
   "id": "a44d233d",
   "metadata": {},
   "source": [
    "Let's see some statistics on `amount`:"
   ]
  },
  {
   "cell_type": "code",
   "execution_count": 14,
   "id": "01e6da36",
   "metadata": {},
   "outputs": [
    {
     "data": {
      "text/plain": [
       "count    6.362620e+06\n",
       "mean     1.798619e+05\n",
       "std      6.038582e+05\n",
       "min      0.000000e+00\n",
       "25%      1.338957e+04\n",
       "50%      7.487194e+04\n",
       "75%      2.087215e+05\n",
       "max      9.244552e+07\n",
       "Name: amount, dtype: float64"
      ]
     },
     "execution_count": 14,
     "metadata": {},
     "output_type": "execute_result"
    }
   ],
   "source": [
    "transactions[\"amount\"].describe()"
   ]
  },
  {
   "cell_type": "markdown",
   "id": "3120731a",
   "metadata": {},
   "source": [
    "We have a lot of information about the type of transaction we are looking at. Let’s create a new column `isPayment` that assigns a 1 when type is “PAYMENT” or “DEBIT”, and a 0 otherwise."
   ]
  },
  {
   "cell_type": "code",
   "execution_count": 30,
   "id": "56c55c6e",
   "metadata": {},
   "outputs": [
    {
     "data": {
      "text/plain": [
       "array(['PAYMENT', 'TRANSFER', 'CASH_OUT', 'DEBIT', 'CASH_IN'],\n",
       "      dtype=object)"
      ]
     },
     "execution_count": 30,
     "metadata": {},
     "output_type": "execute_result"
    }
   ],
   "source": [
    "transactions[\"type\"].unique()"
   ]
  },
  {
   "cell_type": "code",
   "execution_count": 71,
   "id": "d30fb53c",
   "metadata": {},
   "outputs": [
    {
     "data": {
      "text/html": [
       "<div>\n",
       "<style scoped>\n",
       "    .dataframe tbody tr th:only-of-type {\n",
       "        vertical-align: middle;\n",
       "    }\n",
       "\n",
       "    .dataframe tbody tr th {\n",
       "        vertical-align: top;\n",
       "    }\n",
       "\n",
       "    .dataframe thead th {\n",
       "        text-align: right;\n",
       "    }\n",
       "</style>\n",
       "<table border=\"1\" class=\"dataframe\">\n",
       "  <thead>\n",
       "    <tr style=\"text-align: right;\">\n",
       "      <th></th>\n",
       "      <th>step</th>\n",
       "      <th>type</th>\n",
       "      <th>amount</th>\n",
       "      <th>nameOrig</th>\n",
       "      <th>oldbalanceOrg</th>\n",
       "      <th>newbalanceOrig</th>\n",
       "      <th>nameDest</th>\n",
       "      <th>oldbalanceDest</th>\n",
       "      <th>newbalanceDest</th>\n",
       "      <th>isFraud</th>\n",
       "      <th>isFlaggedFraud</th>\n",
       "      <th>isPayment</th>\n",
       "    </tr>\n",
       "  </thead>\n",
       "  <tbody>\n",
       "    <tr>\n",
       "      <th>630042</th>\n",
       "      <td>34</td>\n",
       "      <td>CASH_IN</td>\n",
       "      <td>34593.67</td>\n",
       "      <td>C1964308471</td>\n",
       "      <td>2959289.31</td>\n",
       "      <td>2993882.98</td>\n",
       "      <td>C260931560</td>\n",
       "      <td>1468151.42</td>\n",
       "      <td>1433557.74</td>\n",
       "      <td>0</td>\n",
       "      <td>0</td>\n",
       "      <td>0</td>\n",
       "    </tr>\n",
       "    <tr>\n",
       "      <th>5584417</th>\n",
       "      <td>394</td>\n",
       "      <td>CASH_OUT</td>\n",
       "      <td>545154.08</td>\n",
       "      <td>C1764382170</td>\n",
       "      <td>0.00</td>\n",
       "      <td>0.00</td>\n",
       "      <td>C736930164</td>\n",
       "      <td>1113802.14</td>\n",
       "      <td>1658956.23</td>\n",
       "      <td>0</td>\n",
       "      <td>0</td>\n",
       "      <td>0</td>\n",
       "    </tr>\n",
       "    <tr>\n",
       "      <th>3770379</th>\n",
       "      <td>280</td>\n",
       "      <td>CASH_OUT</td>\n",
       "      <td>35514.96</td>\n",
       "      <td>C1503669016</td>\n",
       "      <td>96055.00</td>\n",
       "      <td>60540.04</td>\n",
       "      <td>C1279480147</td>\n",
       "      <td>1813761.73</td>\n",
       "      <td>1849276.69</td>\n",
       "      <td>0</td>\n",
       "      <td>0</td>\n",
       "      <td>0</td>\n",
       "    </tr>\n",
       "    <tr>\n",
       "      <th>2767473</th>\n",
       "      <td>213</td>\n",
       "      <td>TRANSFER</td>\n",
       "      <td>286171.98</td>\n",
       "      <td>C1538884243</td>\n",
       "      <td>50142.62</td>\n",
       "      <td>0.00</td>\n",
       "      <td>C1556836011</td>\n",
       "      <td>789466.82</td>\n",
       "      <td>1075638.80</td>\n",
       "      <td>0</td>\n",
       "      <td>0</td>\n",
       "      <td>0</td>\n",
       "    </tr>\n",
       "    <tr>\n",
       "      <th>1740472</th>\n",
       "      <td>161</td>\n",
       "      <td>DEBIT</td>\n",
       "      <td>17642.01</td>\n",
       "      <td>C622784729</td>\n",
       "      <td>478.00</td>\n",
       "      <td>0.00</td>\n",
       "      <td>C1991915301</td>\n",
       "      <td>563809.21</td>\n",
       "      <td>581451.22</td>\n",
       "      <td>0</td>\n",
       "      <td>0</td>\n",
       "      <td>1</td>\n",
       "    </tr>\n",
       "    <tr>\n",
       "      <th>2449674</th>\n",
       "      <td>203</td>\n",
       "      <td>CASH_OUT</td>\n",
       "      <td>287569.05</td>\n",
       "      <td>C371262605</td>\n",
       "      <td>0.00</td>\n",
       "      <td>0.00</td>\n",
       "      <td>C867497050</td>\n",
       "      <td>1197648.75</td>\n",
       "      <td>1485217.80</td>\n",
       "      <td>0</td>\n",
       "      <td>0</td>\n",
       "      <td>0</td>\n",
       "    </tr>\n",
       "    <tr>\n",
       "      <th>5008300</th>\n",
       "      <td>353</td>\n",
       "      <td>CASH_IN</td>\n",
       "      <td>199372.70</td>\n",
       "      <td>C245789251</td>\n",
       "      <td>256025.39</td>\n",
       "      <td>455398.09</td>\n",
       "      <td>C813505718</td>\n",
       "      <td>303481.75</td>\n",
       "      <td>104109.06</td>\n",
       "      <td>0</td>\n",
       "      <td>0</td>\n",
       "      <td>0</td>\n",
       "    </tr>\n",
       "    <tr>\n",
       "      <th>5957210</th>\n",
       "      <td>405</td>\n",
       "      <td>CASH_OUT</td>\n",
       "      <td>42615.61</td>\n",
       "      <td>C379382292</td>\n",
       "      <td>10634.00</td>\n",
       "      <td>0.00</td>\n",
       "      <td>C1172772405</td>\n",
       "      <td>353183.74</td>\n",
       "      <td>395799.35</td>\n",
       "      <td>0</td>\n",
       "      <td>0</td>\n",
       "      <td>0</td>\n",
       "    </tr>\n",
       "    <tr>\n",
       "      <th>1240521</th>\n",
       "      <td>134</td>\n",
       "      <td>CASH_IN</td>\n",
       "      <td>135024.48</td>\n",
       "      <td>C276659013</td>\n",
       "      <td>74865.00</td>\n",
       "      <td>209889.48</td>\n",
       "      <td>C767497528</td>\n",
       "      <td>285106.44</td>\n",
       "      <td>150081.95</td>\n",
       "      <td>0</td>\n",
       "      <td>0</td>\n",
       "      <td>0</td>\n",
       "    </tr>\n",
       "    <tr>\n",
       "      <th>1498179</th>\n",
       "      <td>142</td>\n",
       "      <td>PAYMENT</td>\n",
       "      <td>13673.84</td>\n",
       "      <td>C390941092</td>\n",
       "      <td>1470.00</td>\n",
       "      <td>0.00</td>\n",
       "      <td>M1238995243</td>\n",
       "      <td>0.00</td>\n",
       "      <td>0.00</td>\n",
       "      <td>0</td>\n",
       "      <td>0</td>\n",
       "      <td>1</td>\n",
       "    </tr>\n",
       "  </tbody>\n",
       "</table>\n",
       "</div>"
      ],
      "text/plain": [
       "         step      type     amount     nameOrig  oldbalanceOrg  \\\n",
       "630042     34   CASH_IN   34593.67  C1964308471     2959289.31   \n",
       "5584417   394  CASH_OUT  545154.08  C1764382170           0.00   \n",
       "3770379   280  CASH_OUT   35514.96  C1503669016       96055.00   \n",
       "2767473   213  TRANSFER  286171.98  C1538884243       50142.62   \n",
       "1740472   161     DEBIT   17642.01   C622784729         478.00   \n",
       "2449674   203  CASH_OUT  287569.05   C371262605           0.00   \n",
       "5008300   353   CASH_IN  199372.70   C245789251      256025.39   \n",
       "5957210   405  CASH_OUT   42615.61   C379382292       10634.00   \n",
       "1240521   134   CASH_IN  135024.48   C276659013       74865.00   \n",
       "1498179   142   PAYMENT   13673.84   C390941092        1470.00   \n",
       "\n",
       "         newbalanceOrig     nameDest  oldbalanceDest  newbalanceDest  isFraud  \\\n",
       "630042       2993882.98   C260931560      1468151.42      1433557.74        0   \n",
       "5584417            0.00   C736930164      1113802.14      1658956.23        0   \n",
       "3770379        60540.04  C1279480147      1813761.73      1849276.69        0   \n",
       "2767473            0.00  C1556836011       789466.82      1075638.80        0   \n",
       "1740472            0.00  C1991915301       563809.21       581451.22        0   \n",
       "2449674            0.00   C867497050      1197648.75      1485217.80        0   \n",
       "5008300       455398.09   C813505718       303481.75       104109.06        0   \n",
       "5957210            0.00  C1172772405       353183.74       395799.35        0   \n",
       "1240521       209889.48   C767497528       285106.44       150081.95        0   \n",
       "1498179            0.00  M1238995243            0.00            0.00        0   \n",
       "\n",
       "         isFlaggedFraud  isPayment  \n",
       "630042                0          0  \n",
       "5584417               0          0  \n",
       "3770379               0          0  \n",
       "2767473               0          0  \n",
       "1740472               0          1  \n",
       "2449674               0          0  \n",
       "5008300               0          0  \n",
       "5957210               0          0  \n",
       "1240521               0          0  \n",
       "1498179               0          1  "
      ]
     },
     "execution_count": 71,
     "metadata": {},
     "output_type": "execute_result"
    }
   ],
   "source": [
    "transactions[\"isPayment\"] = 0\n",
    "\n",
    "transactions[\"isPayment\"][transactions[\"type\"].isin([\"PAYMENT\", \"DEBIT\"])] = 1\n",
    "\n",
    "transactions.sample(10)"
   ]
  },
  {
   "cell_type": "markdown",
   "id": "7f78e8cb",
   "metadata": {},
   "source": [
    "Similarly, let's create a column `isMovement`, which will capture if money moved out of the origin account. This column will have a value of 1 when type is either “CASH_OUT” or “TRANSFER”, and a 0 otherwise."
   ]
  },
  {
   "cell_type": "code",
   "execution_count": 83,
   "id": "4853bf29",
   "metadata": {},
   "outputs": [
    {
     "data": {
      "text/html": [
       "<div>\n",
       "<style scoped>\n",
       "    .dataframe tbody tr th:only-of-type {\n",
       "        vertical-align: middle;\n",
       "    }\n",
       "\n",
       "    .dataframe tbody tr th {\n",
       "        vertical-align: top;\n",
       "    }\n",
       "\n",
       "    .dataframe thead th {\n",
       "        text-align: right;\n",
       "    }\n",
       "</style>\n",
       "<table border=\"1\" class=\"dataframe\">\n",
       "  <thead>\n",
       "    <tr style=\"text-align: right;\">\n",
       "      <th></th>\n",
       "      <th>step</th>\n",
       "      <th>type</th>\n",
       "      <th>amount</th>\n",
       "      <th>nameOrig</th>\n",
       "      <th>oldbalanceOrg</th>\n",
       "      <th>newbalanceOrig</th>\n",
       "      <th>nameDest</th>\n",
       "      <th>oldbalanceDest</th>\n",
       "      <th>newbalanceDest</th>\n",
       "      <th>isFraud</th>\n",
       "      <th>isFlaggedFraud</th>\n",
       "      <th>isPayment</th>\n",
       "      <th>isMovement</th>\n",
       "    </tr>\n",
       "  </thead>\n",
       "  <tbody>\n",
       "    <tr>\n",
       "      <th>1594673</th>\n",
       "      <td>156</td>\n",
       "      <td>TRANSFER</td>\n",
       "      <td>669721.86</td>\n",
       "      <td>C1137520086</td>\n",
       "      <td>525.0</td>\n",
       "      <td>0.00</td>\n",
       "      <td>C406209727</td>\n",
       "      <td>0.00</td>\n",
       "      <td>669721.86</td>\n",
       "      <td>0</td>\n",
       "      <td>0</td>\n",
       "      <td>0</td>\n",
       "      <td>1</td>\n",
       "    </tr>\n",
       "    <tr>\n",
       "      <th>4441223</th>\n",
       "      <td>323</td>\n",
       "      <td>CASH_IN</td>\n",
       "      <td>251156.32</td>\n",
       "      <td>C1936716212</td>\n",
       "      <td>52533.0</td>\n",
       "      <td>303689.32</td>\n",
       "      <td>C743639809</td>\n",
       "      <td>57210.79</td>\n",
       "      <td>0.00</td>\n",
       "      <td>0</td>\n",
       "      <td>0</td>\n",
       "      <td>0</td>\n",
       "      <td>0</td>\n",
       "    </tr>\n",
       "    <tr>\n",
       "      <th>810986</th>\n",
       "      <td>40</td>\n",
       "      <td>CASH_OUT</td>\n",
       "      <td>492776.27</td>\n",
       "      <td>C1960452738</td>\n",
       "      <td>0.0</td>\n",
       "      <td>0.00</td>\n",
       "      <td>C848982811</td>\n",
       "      <td>1215536.86</td>\n",
       "      <td>1708313.13</td>\n",
       "      <td>0</td>\n",
       "      <td>0</td>\n",
       "      <td>0</td>\n",
       "      <td>1</td>\n",
       "    </tr>\n",
       "    <tr>\n",
       "      <th>759079</th>\n",
       "      <td>38</td>\n",
       "      <td>CASH_OUT</td>\n",
       "      <td>143869.23</td>\n",
       "      <td>C278632423</td>\n",
       "      <td>0.0</td>\n",
       "      <td>0.00</td>\n",
       "      <td>C1453102946</td>\n",
       "      <td>2144425.22</td>\n",
       "      <td>2288294.45</td>\n",
       "      <td>0</td>\n",
       "      <td>0</td>\n",
       "      <td>0</td>\n",
       "      <td>1</td>\n",
       "    </tr>\n",
       "    <tr>\n",
       "      <th>2917008</th>\n",
       "      <td>229</td>\n",
       "      <td>CASH_IN</td>\n",
       "      <td>7839.33</td>\n",
       "      <td>C1656118325</td>\n",
       "      <td>30325.0</td>\n",
       "      <td>38164.33</td>\n",
       "      <td>C174161132</td>\n",
       "      <td>115591.77</td>\n",
       "      <td>107752.44</td>\n",
       "      <td>0</td>\n",
       "      <td>0</td>\n",
       "      <td>0</td>\n",
       "      <td>0</td>\n",
       "    </tr>\n",
       "  </tbody>\n",
       "</table>\n",
       "</div>"
      ],
      "text/plain": [
       "         step      type     amount     nameOrig  oldbalanceOrg  \\\n",
       "1594673   156  TRANSFER  669721.86  C1137520086          525.0   \n",
       "4441223   323   CASH_IN  251156.32  C1936716212        52533.0   \n",
       "810986     40  CASH_OUT  492776.27  C1960452738            0.0   \n",
       "759079     38  CASH_OUT  143869.23   C278632423            0.0   \n",
       "2917008   229   CASH_IN    7839.33  C1656118325        30325.0   \n",
       "\n",
       "         newbalanceOrig     nameDest  oldbalanceDest  newbalanceDest  isFraud  \\\n",
       "1594673            0.00   C406209727            0.00       669721.86        0   \n",
       "4441223       303689.32   C743639809        57210.79            0.00        0   \n",
       "810986             0.00   C848982811      1215536.86      1708313.13        0   \n",
       "759079             0.00  C1453102946      2144425.22      2288294.45        0   \n",
       "2917008        38164.33   C174161132       115591.77       107752.44        0   \n",
       "\n",
       "         isFlaggedFraud  isPayment  isMovement  \n",
       "1594673               0          0           1  \n",
       "4441223               0          0           0  \n",
       "810986                0          0           1  \n",
       "759079                0          0           1  \n",
       "2917008               0          0           0  "
      ]
     },
     "execution_count": 83,
     "metadata": {},
     "output_type": "execute_result"
    }
   ],
   "source": [
    "transactions[\"isMovement\"] = 0\n",
    "\n",
    "transactions[\"isMovement\"][transactions[\"type\"].isin([\"CASH_OUT\", \"TRANSFER\"])] = 1\n",
    "\n",
    "transactions.sample(5)"
   ]
  },
  {
   "cell_type": "markdown",
   "id": "23a33e41",
   "metadata": {},
   "source": [
    "With financial fraud, another key factor to investigate would be the difference in value between the origin and destination account. My theory, in this case, being that destination accounts with a significantly different value could be suspect of fraud. Let’s create a column `accountDiff` with the absolute difference of the `oldbalanceOrg` and `oldbalanceDest` columns."
   ]
  },
  {
   "cell_type": "code",
   "execution_count": 85,
   "id": "39737078",
   "metadata": {},
   "outputs": [
    {
     "data": {
      "text/html": [
       "<div>\n",
       "<style scoped>\n",
       "    .dataframe tbody tr th:only-of-type {\n",
       "        vertical-align: middle;\n",
       "    }\n",
       "\n",
       "    .dataframe tbody tr th {\n",
       "        vertical-align: top;\n",
       "    }\n",
       "\n",
       "    .dataframe thead th {\n",
       "        text-align: right;\n",
       "    }\n",
       "</style>\n",
       "<table border=\"1\" class=\"dataframe\">\n",
       "  <thead>\n",
       "    <tr style=\"text-align: right;\">\n",
       "      <th></th>\n",
       "      <th>step</th>\n",
       "      <th>type</th>\n",
       "      <th>amount</th>\n",
       "      <th>nameOrig</th>\n",
       "      <th>oldbalanceOrg</th>\n",
       "      <th>newbalanceOrig</th>\n",
       "      <th>nameDest</th>\n",
       "      <th>oldbalanceDest</th>\n",
       "      <th>newbalanceDest</th>\n",
       "      <th>isFraud</th>\n",
       "      <th>isFlaggedFraud</th>\n",
       "      <th>isPayment</th>\n",
       "      <th>isMovement</th>\n",
       "      <th>accountDiff</th>\n",
       "    </tr>\n",
       "  </thead>\n",
       "  <tbody>\n",
       "    <tr>\n",
       "      <th>3747225</th>\n",
       "      <td>279</td>\n",
       "      <td>PAYMENT</td>\n",
       "      <td>3597.88</td>\n",
       "      <td>C1086384216</td>\n",
       "      <td>25580.00</td>\n",
       "      <td>21982.12</td>\n",
       "      <td>M943927369</td>\n",
       "      <td>0.00</td>\n",
       "      <td>0.00</td>\n",
       "      <td>0</td>\n",
       "      <td>0</td>\n",
       "      <td>1</td>\n",
       "      <td>0</td>\n",
       "      <td>25580.00</td>\n",
       "    </tr>\n",
       "    <tr>\n",
       "      <th>3812662</th>\n",
       "      <td>281</td>\n",
       "      <td>CASH_IN</td>\n",
       "      <td>11765.04</td>\n",
       "      <td>C1798814572</td>\n",
       "      <td>5085159.06</td>\n",
       "      <td>5096924.09</td>\n",
       "      <td>C813671948</td>\n",
       "      <td>573073.64</td>\n",
       "      <td>561308.60</td>\n",
       "      <td>0</td>\n",
       "      <td>0</td>\n",
       "      <td>0</td>\n",
       "      <td>0</td>\n",
       "      <td>4512085.42</td>\n",
       "    </tr>\n",
       "    <tr>\n",
       "      <th>132932</th>\n",
       "      <td>11</td>\n",
       "      <td>DEBIT</td>\n",
       "      <td>941.54</td>\n",
       "      <td>C581207770</td>\n",
       "      <td>20303.00</td>\n",
       "      <td>19361.46</td>\n",
       "      <td>C1526689241</td>\n",
       "      <td>110864.00</td>\n",
       "      <td>111805.54</td>\n",
       "      <td>0</td>\n",
       "      <td>0</td>\n",
       "      <td>1</td>\n",
       "      <td>0</td>\n",
       "      <td>90561.00</td>\n",
       "    </tr>\n",
       "    <tr>\n",
       "      <th>4931702</th>\n",
       "      <td>350</td>\n",
       "      <td>CASH_IN</td>\n",
       "      <td>122888.72</td>\n",
       "      <td>C348422043</td>\n",
       "      <td>38924.00</td>\n",
       "      <td>161812.72</td>\n",
       "      <td>C838343736</td>\n",
       "      <td>1146917.51</td>\n",
       "      <td>1024028.79</td>\n",
       "      <td>0</td>\n",
       "      <td>0</td>\n",
       "      <td>0</td>\n",
       "      <td>0</td>\n",
       "      <td>1107993.51</td>\n",
       "    </tr>\n",
       "    <tr>\n",
       "      <th>5869458</th>\n",
       "      <td>403</td>\n",
       "      <td>CASH_IN</td>\n",
       "      <td>67695.23</td>\n",
       "      <td>C290966166</td>\n",
       "      <td>24687.00</td>\n",
       "      <td>92382.23</td>\n",
       "      <td>C1701194538</td>\n",
       "      <td>2152142.15</td>\n",
       "      <td>2084446.92</td>\n",
       "      <td>0</td>\n",
       "      <td>0</td>\n",
       "      <td>0</td>\n",
       "      <td>0</td>\n",
       "      <td>2127455.15</td>\n",
       "    </tr>\n",
       "  </tbody>\n",
       "</table>\n",
       "</div>"
      ],
      "text/plain": [
       "         step     type     amount     nameOrig  oldbalanceOrg  newbalanceOrig  \\\n",
       "3747225   279  PAYMENT    3597.88  C1086384216       25580.00        21982.12   \n",
       "3812662   281  CASH_IN   11765.04  C1798814572     5085159.06      5096924.09   \n",
       "132932     11    DEBIT     941.54   C581207770       20303.00        19361.46   \n",
       "4931702   350  CASH_IN  122888.72   C348422043       38924.00       161812.72   \n",
       "5869458   403  CASH_IN   67695.23   C290966166       24687.00        92382.23   \n",
       "\n",
       "            nameDest  oldbalanceDest  newbalanceDest  isFraud  isFlaggedFraud  \\\n",
       "3747225   M943927369            0.00            0.00        0               0   \n",
       "3812662   C813671948       573073.64       561308.60        0               0   \n",
       "132932   C1526689241       110864.00       111805.54        0               0   \n",
       "4931702   C838343736      1146917.51      1024028.79        0               0   \n",
       "5869458  C1701194538      2152142.15      2084446.92        0               0   \n",
       "\n",
       "         isPayment  isMovement  accountDiff  \n",
       "3747225          1           0     25580.00  \n",
       "3812662          0           0   4512085.42  \n",
       "132932           1           0     90561.00  \n",
       "4931702          0           0   1107993.51  \n",
       "5869458          0           0   2127455.15  "
      ]
     },
     "execution_count": 85,
     "metadata": {},
     "output_type": "execute_result"
    }
   ],
   "source": [
    "transactions[\"accountDiff\"] = abs(transactions[\"oldbalanceOrg\"] - transactions[\"oldbalanceDest\"])\n",
    "\n",
    "transactions.sample(5)"
   ]
  },
  {
   "cell_type": "markdown",
   "id": "bb2f7f63",
   "metadata": {},
   "source": [
    "### Select and Split Data "
   ]
  },
  {
   "cell_type": "markdown",
   "id": "83427526",
   "metadata": {},
   "source": [
    "I will use the following features for the model: \n",
    "- `amount`\n",
    "- `isPayment`\n",
    "- `isMovement`\n",
    "- `accountDiff`"
   ]
  },
  {
   "cell_type": "code",
   "execution_count": 87,
   "id": "860b2741",
   "metadata": {},
   "outputs": [],
   "source": [
    "features = transactions[[\"amount\", \"isPayment\", \"isMovement\", \"accountDiff\"]]\n",
    "\n",
    "label = transactions[[\"isFraud\"]]"
   ]
  },
  {
   "cell_type": "markdown",
   "id": "2059477f",
   "metadata": {},
   "source": [
    "Split data:"
   ]
  },
  {
   "cell_type": "code",
   "execution_count": 89,
   "id": "5b4dcdf6",
   "metadata": {},
   "outputs": [],
   "source": [
    "from sklearn.model_selection import train_test_split\n",
    "\n",
    "x_train, x_test, y_train, y_test = train_test_split(features, label, test_size=0.3)"
   ]
  },
  {
   "cell_type": "markdown",
   "id": "54f6f6c9",
   "metadata": {},
   "source": [
    "### Normalize Data "
   ]
  },
  {
   "cell_type": "code",
   "execution_count": 91,
   "id": "fbd4906b",
   "metadata": {},
   "outputs": [],
   "source": [
    "from sklearn.preprocessing import StandardScaler\n",
    "\n",
    "scaler = StandardScaler()\n",
    "x_train = scaler.fit_transform(x_train)\n",
    "x_test = scaler.transform(x_test)"
   ]
  },
  {
   "cell_type": "markdown",
   "id": "08605f1b",
   "metadata": {},
   "source": [
    "### Create and Evaluate the Model"
   ]
  },
  {
   "cell_type": "code",
   "execution_count": 94,
   "id": "2013e0ce",
   "metadata": {},
   "outputs": [
    {
     "data": {
      "text/plain": [
       "LogisticRegression()"
      ]
     },
     "execution_count": 94,
     "metadata": {},
     "output_type": "execute_result"
    }
   ],
   "source": [
    "from sklearn.linear_model import LogisticRegression\n",
    "\n",
    "model = LogisticRegression()\n",
    "model.fit(x_train, y_train)"
   ]
  },
  {
   "cell_type": "markdown",
   "id": "4930846f",
   "metadata": {},
   "source": [
    "Find accuracy of training data:"
   ]
  },
  {
   "cell_type": "code",
   "execution_count": 97,
   "id": "a869abd0",
   "metadata": {},
   "outputs": [
    {
     "data": {
      "text/plain": [
       "0.9986946078367537"
      ]
     },
     "execution_count": 97,
     "metadata": {},
     "output_type": "execute_result"
    }
   ],
   "source": [
    "model.score(x_train, y_train)"
   ]
  },
  {
   "cell_type": "markdown",
   "id": "57c59eba",
   "metadata": {},
   "source": [
    "Find accuracy of testing data:"
   ]
  },
  {
   "cell_type": "code",
   "execution_count": 99,
   "id": "0825b34b",
   "metadata": {},
   "outputs": [
    {
     "data": {
      "text/plain": [
       "0.9986850280754365"
      ]
     },
     "execution_count": 99,
     "metadata": {},
     "output_type": "execute_result"
    }
   ],
   "source": [
    "model.score(x_test, y_test)"
   ]
  },
  {
   "cell_type": "markdown",
   "id": "9fe74e66",
   "metadata": {},
   "source": [
    "View the coefficients for the model to see how important each feature column was for prediction:"
   ]
  },
  {
   "cell_type": "code",
   "execution_count": 100,
   "id": "ce837997",
   "metadata": {},
   "outputs": [
    {
     "data": {
      "text/plain": [
       "array([[ 0.21942793, -1.03256274,  3.62222847, -0.65657416]])"
      ]
     },
     "execution_count": 100,
     "metadata": {},
     "output_type": "execute_result"
    }
   ],
   "source": [
    "model.coef_"
   ]
  },
  {
   "cell_type": "markdown",
   "id": "da65e21e",
   "metadata": {},
   "source": [
    "Let’s use our model to process some more random transactions:"
   ]
  },
  {
   "cell_type": "code",
   "execution_count": 105,
   "id": "c33080fc",
   "metadata": {},
   "outputs": [],
   "source": [
    "import numpy as np\n",
    "\n",
    "transaction1 = np.array([123456.78, 0.0, 1.0, 54670.1])\n",
    "transaction2 = np.array([98765.43, 1.0, 0.0, 8524.75])\n",
    "transaction3 = np.array([543678.31, 1.0, 0.0, 510025.5])\n",
    "transaction4 = np.array([6472.54, 1.0, 0.0, 55901.23])"
   ]
  },
  {
   "cell_type": "code",
   "execution_count": 106,
   "id": "bbff4cf0",
   "metadata": {},
   "outputs": [],
   "source": [
    "sample_transactions = np.stack((transaction1, transaction2, transaction3, transaction4))"
   ]
  },
  {
   "cell_type": "markdown",
   "id": "7ba4489a",
   "metadata": {},
   "source": [
    "Normalize the sample_transactions:"
   ]
  },
  {
   "cell_type": "code",
   "execution_count": 107,
   "id": "e8b001ad",
   "metadata": {},
   "outputs": [],
   "source": [
    "sample_transactions = scaler.transform(sample_transactions)"
   ]
  },
  {
   "cell_type": "markdown",
   "id": "85f5ef2f",
   "metadata": {},
   "source": [
    "Predict fraud on sample_transactions:"
   ]
  },
  {
   "cell_type": "code",
   "execution_count": 108,
   "id": "a7ee77dd",
   "metadata": {},
   "outputs": [
    {
     "data": {
      "text/plain": [
       "array([0, 1, 0, 0], dtype=int64)"
      ]
     },
     "execution_count": 108,
     "metadata": {},
     "output_type": "execute_result"
    }
   ],
   "source": [
    "model.predict(sample_transactions)"
   ]
  }
 ],
 "metadata": {
  "kernelspec": {
   "display_name": "Python 3",
   "language": "python",
   "name": "python3"
  },
  "language_info": {
   "codemirror_mode": {
    "name": "ipython",
    "version": 3
   },
   "file_extension": ".py",
   "mimetype": "text/x-python",
   "name": "python",
   "nbconvert_exporter": "python",
   "pygments_lexer": "ipython3",
   "version": "3.8.8"
  }
 },
 "nbformat": 4,
 "nbformat_minor": 5
}
